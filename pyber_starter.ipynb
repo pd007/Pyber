{
 "cells": [
  {
   "cell_type": "code",
   "execution_count": 3,
   "metadata": {},
   "outputs": [
    {
     "data": {
      "text/html": [
       "<div>\n",
       "<style scoped>\n",
       "    .dataframe tbody tr th:only-of-type {\n",
       "        vertical-align: middle;\n",
       "    }\n",
       "\n",
       "    .dataframe tbody tr th {\n",
       "        vertical-align: top;\n",
       "    }\n",
       "\n",
       "    .dataframe thead th {\n",
       "        text-align: right;\n",
       "    }\n",
       "</style>\n",
       "<table border=\"1\" class=\"dataframe\">\n",
       "  <thead>\n",
       "    <tr style=\"text-align: right;\">\n",
       "      <th></th>\n",
       "      <th>city</th>\n",
       "      <th>driver_count</th>\n",
       "      <th>type</th>\n",
       "      <th>date</th>\n",
       "      <th>fare</th>\n",
       "      <th>ride_id</th>\n",
       "    </tr>\n",
       "  </thead>\n",
       "  <tbody>\n",
       "    <tr>\n",
       "      <th>0</th>\n",
       "      <td>Richardfort</td>\n",
       "      <td>38</td>\n",
       "      <td>Urban</td>\n",
       "      <td>2018-02-24 08:40:38</td>\n",
       "      <td>13.93</td>\n",
       "      <td>5628545007794</td>\n",
       "    </tr>\n",
       "    <tr>\n",
       "      <th>1</th>\n",
       "      <td>Richardfort</td>\n",
       "      <td>38</td>\n",
       "      <td>Urban</td>\n",
       "      <td>2018-02-13 12:46:07</td>\n",
       "      <td>14.00</td>\n",
       "      <td>910050116494</td>\n",
       "    </tr>\n",
       "    <tr>\n",
       "      <th>2</th>\n",
       "      <td>Richardfort</td>\n",
       "      <td>38</td>\n",
       "      <td>Urban</td>\n",
       "      <td>2018-02-16 13:52:19</td>\n",
       "      <td>17.92</td>\n",
       "      <td>820639054416</td>\n",
       "    </tr>\n",
       "    <tr>\n",
       "      <th>3</th>\n",
       "      <td>Richardfort</td>\n",
       "      <td>38</td>\n",
       "      <td>Urban</td>\n",
       "      <td>2018-02-01 20:18:28</td>\n",
       "      <td>10.26</td>\n",
       "      <td>9554935945413</td>\n",
       "    </tr>\n",
       "    <tr>\n",
       "      <th>4</th>\n",
       "      <td>Richardfort</td>\n",
       "      <td>38</td>\n",
       "      <td>Urban</td>\n",
       "      <td>2018-04-17 02:26:37</td>\n",
       "      <td>23.00</td>\n",
       "      <td>720020655850</td>\n",
       "    </tr>\n",
       "  </tbody>\n",
       "</table>\n",
       "</div>"
      ],
      "text/plain": [
       "          city  driver_count   type                 date   fare        ride_id\n",
       "0  Richardfort            38  Urban  2018-02-24 08:40:38  13.93  5628545007794\n",
       "1  Richardfort            38  Urban  2018-02-13 12:46:07  14.00   910050116494\n",
       "2  Richardfort            38  Urban  2018-02-16 13:52:19  17.92   820639054416\n",
       "3  Richardfort            38  Urban  2018-02-01 20:18:28  10.26  9554935945413\n",
       "4  Richardfort            38  Urban  2018-04-17 02:26:37  23.00   720020655850"
      ]
     },
     "execution_count": 3,
     "metadata": {},
     "output_type": "execute_result"
    }
   ],
   "source": [
    "%matplotlib inline\n",
    "# Dependencies and Setup\n",
    "import matplotlib.pyplot as plt\n",
    "import pandas as pd\n",
    "import numpy as np\n",
    "\n",
    "# File to Load (Remember to change these)\n",
    "uber_data = \"data/city_data.csv\"\n",
    "ride_data = \"data/ride_data.csv\"\n",
    "\n",
    "# Read the City and Ride Data\n",
    "\n",
    "uber_data = pd.read_csv(uber_data)\n",
    "ride_data = pd.read_csv(ride_data)\n",
    "\n",
    "# Combine the data into a single dataset\n",
    "\n",
    "ride = pd.merge(uber_data, ride_data, on=\"city\", how=\"outer\")\n",
    "# Display the data table for preview\n",
    "\n",
    "ride.head()"
   ]
  },
  {
   "cell_type": "code",
   "execution_count": null,
   "metadata": {
    "scrolled": true
   },
   "outputs": [],
   "source": []
  },
  {
   "cell_type": "markdown",
   "metadata": {},
   "source": [
    "## Bubble Plot of Ride Sharing Data"
   ]
  },
  {
   "cell_type": "code",
   "execution_count": 4,
   "metadata": {},
   "outputs": [
    {
     "data": {
      "text/plain": [
       "Text(0,0.5,'Average $')"
      ]
     },
     "execution_count": 4,
     "metadata": {},
     "output_type": "execute_result"
    },
    {
     "data": {
      "image/png": "[encoded data removed]",
      "text/plain": [
       "<Figure size 432x288 with 1 Axes>"
      ]
     },
     "metadata": {},
     "output_type": "display_data"
    }
   ],
   "source": [
    "# Obtain the x and y coordinates for each of the three city types\n",
    "\n",
    "Suburban_city = ride[(ride.type == \"Suburban\")]\n",
    "Urban_city = ride[(ride.type == \"Urban\")]\n",
    "Rural_city = ride[(ride.type == \"Rural\")]\n",
    "\n",
    "#Variables for cities \n",
    "\n",
    "Suburban_rides = Suburban_city.groupby([ride.city]).count()[\"ride_id\"]\n",
    "Suburban_average = Suburban_city.groupby([ride.city]).mean()[\"fare\"]\n",
    "\n",
    "Rural_rides = Rural_city.groupby([ride.city]).count()[\"ride_id\"]\n",
    "Rural_average = Rural_city.groupby([ride.city]).mean()[\"fare\"]\n",
    "\n",
    "Urban_rides = Urban_city.groupby([ride.city]).count()[\"ride_id\"]\n",
    "Urban_average = Urban_city.groupby([ride.city]).mean()[\"fare\"]\n",
    "\n",
    "# Build the scatter plots for each city types\n",
    "\n",
    "plt.scatter(Suburban_rides, Suburban_average, label = \"Suburban\", s=Suburban_rides*5, marker=\"^\", c=[\"yellow\"])\n",
    "\n",
    "plt.scatter(Urban_rides, Urban_average, label = \"Urban\", s=Urban_rides*5, marker=\"o\", c=[\"brown\"])\n",
    "\n",
    "plt.scatter(Rural_rides, Rural_average, label = \"Rural\", s=Urban_rides*5, marker=\"^\", c=[\"red\"])\n",
    "\n",
    "# Incorporate the other graph properties\n",
    "\n",
    "plt.xlim(0, 60)\n",
    "plt.ylim(0, 50)\n",
    "\n",
    "# Create a legend\n",
    "\n",
    "plt.title(\"Ride Sharing Data\")\n",
    "plt.xlabel(\"Total Number of Rides per city\")\n",
    "plt.ylabel(\"Average $\")\n",
    "\n",
    "# Incorporate a text label regarding circle size\n",
    "\n",
    "\n"
   ]
  },
  {
   "cell_type": "code",
   "execution_count": 5,
   "metadata": {},
   "outputs": [],
   "source": [
    "# Show plot\n",
    "plt.show()"
   ]
  },
  {
   "cell_type": "markdown",
   "metadata": {},
   "source": [
    "## Total Fares by City Type"
   ]
  },
  {
   "cell_type": "code",
   "execution_count": 6,
   "metadata": {},
   "outputs": [
    {
     "data": {
      "text/plain": [
       "([<matplotlib.patches.Wedge at 0x10ba034a8>,\n",
       "  <matplotlib.patches.Wedge at 0x10ba03c18>,\n",
       "  <matplotlib.patches.Wedge at 0x10ba10470>],\n",
       " [Text(1.08643,0.172256,''),\n",
       "  Text(0.44392,1.00645,''),\n",
       "  Text(-0.596049,-0.924514,'')])"
      ]
     },
     "execution_count": 6,
     "metadata": {},
     "output_type": "execute_result"
    },
    {
     "data": {
      "image/png": "[encoded data removed]",
      "text/plain": [
       "<Figure size 432x288 with 1 Axes>"
      ]
     },
     "metadata": {},
     "output_type": "display_data"
    }
   ],
   "source": [
    "total_fares_city = ride.groupby([\"type\"])[[\"ride_id\"]].sum()\n",
    "\n",
    "plt.pie(total_fares_city, colors=[\"black\",\"yellow\", \"orange\"], shadow=True)\n",
    "\n",
    "# Save Figure\n"
   ]
  },
  {
   "cell_type": "code",
   "execution_count": 7,
   "metadata": {},
   "outputs": [],
   "source": [
    "# Show Figure\n",
    "plt.show()"
   ]
  },
  {
   "cell_type": "markdown",
   "metadata": {},
   "source": [
    "## Total Rides by City Type"
   ]
  },
  {
   "cell_type": "code",
   "execution_count": 12,
   "metadata": {},
   "outputs": [
    {
     "data": {
      "image/png": "[encoded data removed]",
      "text/plain": [
       "<Figure size 432x288 with 1 Axes>"
      ]
     },
     "metadata": {},
     "output_type": "display_data"
    }
   ],
   "source": [
    "# Calculate Ride Percents\n",
    "\n",
    "totalrides = ride.groupby([\"type\"])[[\"fare\"]].sum()\n",
    "\n",
    "\n",
    "\n",
    "\n",
    "# Build Pie Chart\n",
    "\n",
    "plt.pie(totalrides, explode=[0,0,.1], labels=[\"Rural\",\"Suburban\",\"Urban\"], colors=[\"red\",\"black\", \"blue\"], shadow=True)\n",
    "\n",
    "plt.title(\"Total Rides by City Type\")\n",
    "plt.show()\n"
   ]
  },
  {
   "cell_type": "code",
   "execution_count": 13,
   "metadata": {},
   "outputs": [],
   "source": [
    "# Show Figure\n",
    "\n",
    "plt.show()"
   ]
  },
  {
   "cell_type": "markdown",
   "metadata": {},
   "source": [
    "## Total Drivers by City Type"
   ]
  },
  {
   "cell_type": "code",
   "execution_count": 10,
   "metadata": {},
   "outputs": [
    {
     "data": {
      "text/plain": [
       "([<matplotlib.patches.Wedge at 0x112b66cc0>,\n",
       "  <matplotlib.patches.Wedge at 0x112b724e0>,\n",
       "  <matplotlib.patches.Wedge at 0x112b72cf8>],\n",
       " [Text(1.09967,0.027006,'Rural'),\n",
       "  Text(0.994779,0.469483,'Suburban'),\n",
       "  Text(-1.00601,-0.444919,'Urban')])"
      ]
     },
     "execution_count": 10,
     "metadata": {},
     "output_type": "execute_result"
    },
    {
     "data": {
      "image/png": "[encoded data removed]",
      "text/plain": [
       "<Figure size 432x288 with 1 Axes>"
      ]
     },
     "metadata": {},
     "output_type": "display_data"
    }
   ],
   "source": [
    "# Calculate Driver Percents\n",
    "\n",
    "totaldrivers = ride.groupby([\"type\"])[[\"driver_count\"]].sum()\n",
    "\n",
    "# Build Pie Charts\n",
    "\n",
    "plt.pie(totaldrivers,labels=[\"Rural\",\"Suburban\",\"Urban\"], colors=[\"yellow\",\"orange\", \"grey\"], shadow=True)\n",
    "\n",
    "\n"
   ]
  },
  {
   "cell_type": "code",
   "execution_count": 11,
   "metadata": {
    "scrolled": true
   },
   "outputs": [],
   "source": [
    "# Show Figure\n",
    "plt.show()"
   ]
  },
  {
   "cell_type": "code",
   "execution_count": null,
   "metadata": {},
   "outputs": [],
   "source": []
  },
  {
   "cell_type": "code",
   "execution_count": null,
   "metadata": {},
   "outputs": [],
   "source": []
  },
  {
   "cell_type": "code",
   "execution_count": null,
   "metadata": {},
   "outputs": [],
   "source": []
  },
  {
   "cell_type": "code",
   "execution_count": null,
   "metadata": {},
   "outputs": [],
   "source": []
  },
  {
   "cell_type": "code",
   "execution_count": null,
   "metadata": {},
   "outputs": [],
   "source": []
  }
 ],
 "metadata": {
  "anaconda-cloud": {},
  "kernelspec": {
   "display_name": "Python 3",
   "language": "python",
   "name": "python3"
  },
  "language_info": {
   "codemirror_mode": {
    "name": "ipython",
    "version": 3
   },
   "file_extension": ".py",
   "mimetype": "text/x-python",
   "name": "python",
   "nbconvert_exporter": "python",
   "pygments_lexer": "ipython3",
   "version": "3.6.5"
  }
 },
 "nbformat": 4,
 "nbformat_minor": 2
}
